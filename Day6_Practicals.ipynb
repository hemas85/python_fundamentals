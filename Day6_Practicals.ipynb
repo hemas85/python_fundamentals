{
 "cells": [
  {
   "cell_type": "code",
   "execution_count": null,
   "metadata": {},
   "outputs": [],
   "source": [
    "Introduction to For Loops:"
   ]
  },
  {
   "cell_type": "code",
   "execution_count": 2,
   "metadata": {},
   "outputs": [
    {
     "name": "stdout",
     "output_type": "stream",
     "text": [
      "['bhavani', 'zak', 'ganga', 'divya', 'srinivas', 'suresh', 'mohan']\n"
     ]
    }
   ],
   "source": [
    "my_std = ['bhavani','zak','ganga','divya','srinivas','suresh','mohan']\n",
    "\n",
    "print(my_std)"
   ]
  },
  {
   "cell_type": "code",
   "execution_count": 3,
   "metadata": {},
   "outputs": [
    {
     "data": {
      "text/plain": [
       "list"
      ]
     },
     "execution_count": 3,
     "metadata": {},
     "output_type": "execute_result"
    }
   ],
   "source": [
    "type(my_std)"
   ]
  },
  {
   "cell_type": "code",
   "execution_count": null,
   "metadata": {},
   "outputs": [],
   "source": [
    "#writing a for loop\n",
    "\n",
    "for -->temp var and then main var --> take care of indentation:\n",
    "    print(temp var)\n",
    "    \n",
    "    iterarion"
   ]
  },
  {
   "cell_type": "code",
   "execution_count": 4,
   "metadata": {},
   "outputs": [
    {
     "name": "stdout",
     "output_type": "stream",
     "text": [
      "bhavani\n",
      "zak\n",
      "ganga\n",
      "divya\n",
      "srinivas\n",
      "suresh\n",
      "mohan\n"
     ]
    }
   ],
   "source": [
    "for std1 in my_std:\n",
    "    print(std1)"
   ]
  },
  {
   "cell_type": "code",
   "execution_count": null,
   "metadata": {},
   "outputs": [],
   "source": []
  },
  {
   "cell_type": "code",
   "execution_count": null,
   "metadata": {},
   "outputs": [],
   "source": [
    "#Accepting the user input\n",
    "enhancement of the for loop:\n",
    "# automationg the pritn statements.\n",
    "\n",
    "#indented part"
   ]
  },
  {
   "cell_type": "code",
   "execution_count": 5,
   "metadata": {},
   "outputs": [
    {
     "name": "stdout",
     "output_type": "stream",
     "text": [
      "['bhavani', 'zak', 'ganga', 'divya', 'srinivas', 'suresh', 'mohan']\n"
     ]
    }
   ],
   "source": [
    "my_std = ['bhavani','zak','ganga','divya','srinivas','suresh','mohan']\n",
    "\n",
    "print(my_std)"
   ]
  },
  {
   "cell_type": "code",
   "execution_count": null,
   "metadata": {},
   "outputs": [],
   "source": [
    "# req :automate the print statement for everyone"
   ]
  },
  {
   "cell_type": "code",
   "execution_count": 6,
   "metadata": {},
   "outputs": [
    {
     "name": "stdout",
     "output_type": "stream",
     "text": [
      "Bhavani, good job for completing he practicse regularly!!\n",
      "Zak, good job for completing he practicse regularly!!\n",
      "Ganga, good job for completing he practicse regularly!!\n",
      "Divya, good job for completing he practicse regularly!!\n",
      "Srinivas, good job for completing he practicse regularly!!\n",
      "Suresh, good job for completing he practicse regularly!!\n",
      "Mohan, good job for completing he practicse regularly!!\n"
     ]
    }
   ],
   "source": [
    "for x in my_std:\n",
    "    print(f\"{x.title()}, good job for completing he practicse regularly!!\")"
   ]
  },
  {
   "cell_type": "code",
   "execution_count": null,
   "metadata": {},
   "outputs": [],
   "source": []
  },
  {
   "cell_type": "code",
   "execution_count": 24,
   "metadata": {},
   "outputs": [
    {
     "name": "stdout",
     "output_type": "stream",
     "text": [
      "['priya', 'sneha', 'a', 'b', 'c']\n"
     ]
    }
   ],
   "source": [
    "new_grp = ['priya','sneha','a','b','c']\n",
    "\n",
    "print(new_grp)"
   ]
  },
  {
   "cell_type": "code",
   "execution_count": 25,
   "metadata": {},
   "outputs": [
    {
     "name": "stdout",
     "output_type": "stream",
     "text": [
      "Thanks for joining this session on time, Priya\n",
      "Thanks for joining this session on time, Sneha\n",
      "Thanks for joining this session on time, A\n",
      "Thanks for joining this session on time, B\n",
      "Thanks for joining this session on time, C\n"
     ]
    }
   ],
   "source": [
    "for aa in new_grp:\n",
    "    print(f\"Thanks for joining this session on time, {aa.title()}\")"
   ]
  },
  {
   "cell_type": "code",
   "execution_count": 29,
   "metadata": {},
   "outputs": [
    {
     "name": "stdout",
     "output_type": "stream",
     "text": [
      "Thanks for joining this session on time, Priya\n",
      "Thanks for joining this session on time, Sneha\n",
      "Thanks for joining this session on time, A\n",
      "Thanks for joining this session on time, B\n",
      "Thanks for joining this session on time, C\n",
      "\n",
      " Thanks for the good job\n"
     ]
    }
   ],
   "source": [
    "# further enhancements\n",
    "for aa in new_grp:\n",
    "    print(f\"Thanks for joining this session on time, {aa.title()}\")    \n",
    "    \n",
    "print('\\n Thanks for the good job')"
   ]
  },
  {
   "cell_type": "code",
   "execution_count": null,
   "metadata": {},
   "outputs": [],
   "source": []
  },
  {
   "cell_type": "code",
   "execution_count": 20,
   "metadata": {},
   "outputs": [
    {
     "name": "stdout",
     "output_type": "stream",
     "text": [
      "1\n",
      "2\n",
      "3\n",
      "4\n",
      "5\n",
      "6\n",
      "7\n",
      "8\n",
      "9\n"
     ]
    }
   ],
   "source": [
    "#Making a numerical list :\n",
    "\n",
    "#last value will always be excluded , in this eg ---> 10 \n",
    "\n",
    "for value in range(1,10):\n",
    "    print(value)"
   ]
  },
  {
   "cell_type": "code",
   "execution_count": 21,
   "metadata": {},
   "outputs": [
    {
     "name": "stdout",
     "output_type": "stream",
     "text": [
      "[1, 2, 3, 4, 5]\n"
     ]
    }
   ],
   "source": [
    "# how to use range to make a list of nos : --> interview qs\n",
    "\n",
    "numbers = list(range(1,6))\n",
    "\n",
    "print(numbers)\n"
   ]
  },
  {
   "cell_type": "code",
   "execution_count": null,
   "metadata": {},
   "outputs": [],
   "source": [
    "# range is also having step count validation"
   ]
  },
  {
   "cell_type": "code",
   "execution_count": 23,
   "metadata": {},
   "outputs": [
    {
     "name": "stdout",
     "output_type": "stream",
     "text": [
      "[2, 4, 6, 8, 10, 12, 14, 16, 18, 20, 22, 24, 26, 28, 30, 32, 34, 36, 38, 40, 42, 44, 46, 48, 50]\n"
     ]
    }
   ],
   "source": [
    "# req: want to print only even numbers 1 to 50 by using the range --> interview qs\n",
    "\n",
    "even_nos = list(range(2,51,2))\n",
    "\n",
    "print(even_nos)"
   ]
  },
  {
   "cell_type": "code",
   "execution_count": null,
   "metadata": {},
   "outputs": [],
   "source": []
  },
  {
   "cell_type": "code",
   "execution_count": null,
   "metadata": {},
   "outputs": [],
   "source": []
  }
 ],
 "metadata": {
  "kernelspec": {
   "display_name": "Python 3",
   "language": "python",
   "name": "python3"
  },
  "language_info": {
   "codemirror_mode": {
    "name": "ipython",
    "version": 3
   },
   "file_extension": ".py",
   "mimetype": "text/x-python",
   "name": "python",
   "nbconvert_exporter": "python",
   "pygments_lexer": "ipython3",
   "version": "3.7.4"
  }
 },
 "nbformat": 4,
 "nbformat_minor": 2
}
