{
 "cells": [
  {
   "cell_type": "code",
   "execution_count": null,
   "metadata": {},
   "outputs": [],
   "source": [
    "#introduction to the for loops in dictionary"
   ]
  },
  {
   "cell_type": "code",
   "execution_count": null,
   "metadata": {},
   "outputs": [],
   "source": [
    "looping through all key pairs"
   ]
  },
  {
   "cell_type": "code",
   "execution_count": null,
   "metadata": {},
   "outputs": [],
   "source": []
  },
  {
   "cell_type": "code",
   "execution_count": 1,
   "metadata": {},
   "outputs": [
    {
     "ename": "SyntaxError",
     "evalue": "invalid syntax (<ipython-input-1-39c61691f04e>, line 3)",
     "output_type": "error",
     "traceback": [
      "\u001b[1;36m  File \u001b[1;32m\"<ipython-input-1-39c61691f04e>\"\u001b[1;36m, line \u001b[1;32m3\u001b[0m\n\u001b[1;33m    'first_name' : 'mark'\u001b[0m\n\u001b[1;37m                 ^\u001b[0m\n\u001b[1;31mSyntaxError\u001b[0m\u001b[1;31m:\u001b[0m invalid syntax\n"
     ]
    }
   ],
   "source": [
    "user_0 = {\n",
    "    'username' : 'john92'\n",
    "    'first_name' : 'mark'\n",
    "    'last_name' : 'john'\n",
    "}\n",
    "\n",
    "print(user_0) #-- error as there is no comma put at the end of line"
   ]
  },
  {
   "cell_type": "code",
   "execution_count": 3,
   "metadata": {},
   "outputs": [
    {
     "name": "stdout",
     "output_type": "stream",
     "text": [
      "{'username': 'john92', 'first_name': 'mark', 'last_name': 'john'}\n"
     ]
    }
   ],
   "source": [
    "user_0 = {\n",
    "    'username' : 'john92',\n",
    "    'first_name' : 'mark',\n",
    "    'last_name' : 'john',\n",
    "}\n",
    "\n",
    "print(user_0)"
   ]
  },
  {
   "cell_type": "code",
   "execution_count": 5,
   "metadata": {},
   "outputs": [
    {
     "name": "stdout",
     "output_type": "stream",
     "text": [
      "key : username\n",
      "value : john92\n",
      "key : first_name\n",
      "value : mark\n",
      "key : last_name\n",
      "value : john\n"
     ]
    }
   ],
   "source": [
    "for key,value in user_0.items():\n",
    "    print(f\"key : {key}\")\n",
    "    print(f\"value : {value}\")"
   ]
  },
  {
   "cell_type": "code",
   "execution_count": 9,
   "metadata": {},
   "outputs": [
    {
     "name": "stdout",
     "output_type": "stream",
     "text": [
      "\n",
      " abc : username\n",
      "\n",
      " xyz : john92\n",
      "\n",
      " abc : first_name\n",
      "\n",
      " xyz : mark\n",
      "\n",
      " abc : last_name\n",
      "\n",
      " xyz : john\n"
     ]
    }
   ],
   "source": [
    "#for tempvar in mainvar:\n",
    " #   print(tempvar)\n",
    "    \n",
    "\n",
    "#for key,value in user_0.items():\n",
    "#    print(f\"key : {key}\")\n",
    "#    print(f\"value : {value}\")\n",
    "\n",
    "    \n",
    "for x,y in user_0.items():  # x,y hs been used for temp var\n",
    "    print(f\"\\n abc : {x}\") # key :--< pre_defined\n",
    "    print(f\"\\n xyz : {y}\") # value : ---> predefined by using f strings\n"
   ]
  },
  {
   "cell_type": "code",
   "execution_count": null,
   "metadata": {},
   "outputs": [],
   "source": [
    "#req is to get only the keys in the for loop:"
   ]
  },
  {
   "cell_type": "code",
   "execution_count": 11,
   "metadata": {},
   "outputs": [
    {
     "name": "stdout",
     "output_type": "stream",
     "text": [
      "Username\n",
      "First_Name\n",
      "Last_Name\n"
     ]
    }
   ],
   "source": [
    "for name in user_0.keys():\n",
    "    print(name.title())"
   ]
  },
  {
   "cell_type": "code",
   "execution_count": null,
   "metadata": {},
   "outputs": [],
   "source": [
    "#req is to get only the  values from the above dict:"
   ]
  },
  {
   "cell_type": "code",
   "execution_count": 12,
   "metadata": {},
   "outputs": [
    {
     "name": "stdout",
     "output_type": "stream",
     "text": [
      "John92\n",
      "Mark\n",
      "John\n"
     ]
    }
   ],
   "source": [
    "for test in user_0.values():\n",
    "    print(test.title())"
   ]
  },
  {
   "cell_type": "code",
   "execution_count": null,
   "metadata": {},
   "outputs": [],
   "source": []
  },
  {
   "cell_type": "code",
   "execution_count": null,
   "metadata": {},
   "outputs": [],
   "source": [
    "#introduction to while loops:"
   ]
  },
  {
   "cell_type": "code",
   "execution_count": null,
   "metadata": {},
   "outputs": [],
   "source": [
    "definition : as long as or till a certain cond is true it will execute"
   ]
  },
  {
   "cell_type": "code",
   "execution_count": null,
   "metadata": {},
   "outputs": [],
   "source": [
    "while "
   ]
  },
  {
   "cell_type": "code",
   "execution_count": 14,
   "metadata": {},
   "outputs": [
    {
     "name": "stdout",
     "output_type": "stream",
     "text": [
      "1\n",
      "2\n",
      "3\n",
      "4\n",
      "5\n"
     ]
    }
   ],
   "source": [
    "current_num = 1\n",
    "\n",
    "#iterations --> a single execution of the program \n",
    "\n",
    "while current_num <=5:  #validating the cond part\n",
    "    print(current_num)\n",
    "    current_num += 1 # increments by 1"
   ]
  },
  {
   "cell_type": "code",
   "execution_count": null,
   "metadata": {},
   "outputs": [],
   "source": [
    "# done so far\n",
    "string\n",
    "list\n",
    "tuples\n",
    "dictionaries\n",
    "\n",
    "accepting the user input\n",
    "if conditions\n",
    "for looping\n",
    "while loop\n",
    "\n",
    "built in availble right way to use : "
   ]
  },
  {
   "cell_type": "code",
   "execution_count": null,
   "metadata": {},
   "outputs": [],
   "source": [
    "# introduction to python functions :\n",
    "\n",
    "#code reusability  --> written once but used many times --> write once read many times\n",
    "\n"
   ]
  },
  {
   "cell_type": "code",
   "execution_count": 16,
   "metadata": {},
   "outputs": [],
   "source": [
    "def greet_user():  #function_name\n",
    "    \"\"\"Display a simple greeting \"\"\"  #doc -strings --> commenting inside a fun\n",
    "    print('Hello')  # defining the function"
   ]
  },
  {
   "cell_type": "code",
   "execution_count": 17,
   "metadata": {},
   "outputs": [
    {
     "name": "stdout",
     "output_type": "stream",
     "text": [
      "Hello\n"
     ]
    }
   ],
   "source": [
    "greet_user()  # function call"
   ]
  },
  {
   "cell_type": "code",
   "execution_count": 20,
   "metadata": {},
   "outputs": [],
   "source": [
    "#passing information to a function -- parameters\n",
    "\n",
    "def greet_user(username):\n",
    "    \"\"\"Display a simple greeting to the user\"\"\"\n",
    "    print(f\"Welcome back again , {username.title()}\")"
   ]
  },
  {
   "cell_type": "code",
   "execution_count": 21,
   "metadata": {},
   "outputs": [
    {
     "name": "stdout",
     "output_type": "stream",
     "text": [
      "Welcome back again , Hema\n"
     ]
    }
   ],
   "source": [
    "greet_user('hema')"
   ]
  },
  {
   "cell_type": "code",
   "execution_count": null,
   "metadata": {},
   "outputs": [],
   "source": []
  },
  {
   "cell_type": "code",
   "execution_count": null,
   "metadata": {},
   "outputs": [],
   "source": []
  },
  {
   "cell_type": "code",
   "execution_count": null,
   "metadata": {},
   "outputs": [],
   "source": []
  },
  {
   "cell_type": "code",
   "execution_count": null,
   "metadata": {},
   "outputs": [],
   "source": []
  },
  {
   "cell_type": "code",
   "execution_count": null,
   "metadata": {},
   "outputs": [],
   "source": []
  },
  {
   "cell_type": "code",
   "execution_count": null,
   "metadata": {},
   "outputs": [],
   "source": []
  },
  {
   "cell_type": "code",
   "execution_count": null,
   "metadata": {},
   "outputs": [],
   "source": []
  }
 ],
 "metadata": {
  "kernelspec": {
   "display_name": "Python 3",
   "language": "python",
   "name": "python3"
  },
  "language_info": {
   "codemirror_mode": {
    "name": "ipython",
    "version": 3
   },
   "file_extension": ".py",
   "mimetype": "text/x-python",
   "name": "python",
   "nbconvert_exporter": "python",
   "pygments_lexer": "ipython3",
   "version": "3.7.4"
  }
 },
 "nbformat": 4,
 "nbformat_minor": 2
}
