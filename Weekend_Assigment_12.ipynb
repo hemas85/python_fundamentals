{
 "cells": [
  {
   "cell_type": "code",
   "execution_count": null,
   "metadata": {},
   "outputs": [],
   "source": [
    "Activity 1 :-"
   ]
  },
  {
   "cell_type": "code",
   "execution_count": 19,
   "metadata": {},
   "outputs": [],
   "source": [
    "class Restaurant:\n",
    "    \n",
    "    def __init__(self,res_name,cusine_type):\n",
    "        self.res_name = res_name\n",
    "        self.cusine_type = cusine_type\n",
    "        print('successfully executed and called out ')\n",
    "        \n",
    "    def describe_restaurant(self):\n",
    "        \"\"\" prints two pieces of info\"\"\"\n",
    "        print(f\" {self.res_name} is a  Continental restaurant based in the heart of your city\")\n",
    "        print(f\" This restaurant serves {self.cusine_type} . Try the tastiest pastas from here\")\n",
    "        \n",
    "    def open_restaurant(self):\n",
    "        \"\"\"restaurant is now open\"\"\"\n",
    "        print(f\" {self.res_name} is open from 10 a.m. to 10 p.m.\")"
   ]
  },
  {
   "cell_type": "code",
   "execution_count": 20,
   "metadata": {},
   "outputs": [
    {
     "name": "stdout",
     "output_type": "stream",
     "text": [
      "successfully executed and called out \n"
     ]
    }
   ],
   "source": [
    "robj = Restaurant('Bingo','Italian')  "
   ]
  },
  {
   "cell_type": "code",
   "execution_count": 21,
   "metadata": {},
   "outputs": [
    {
     "name": "stdout",
     "output_type": "stream",
     "text": [
      " Bingo is a  Continental restaurant based in the heart of your city\n",
      " This restaurant serves Italian . Try the tastiest pastas from here\n"
     ]
    }
   ],
   "source": [
    "robj.describe_restaurant()"
   ]
  },
  {
   "cell_type": "code",
   "execution_count": 24,
   "metadata": {},
   "outputs": [
    {
     "name": "stdout",
     "output_type": "stream",
     "text": [
      " Bingo is open from 10 a.m. to 10 p.m.\n"
     ]
    }
   ],
   "source": [
    "robj.open_restaurant()"
   ]
  },
  {
   "cell_type": "code",
   "execution_count": null,
   "metadata": {},
   "outputs": [],
   "source": []
  },
  {
   "cell_type": "code",
   "execution_count": null,
   "metadata": {},
   "outputs": [],
   "source": [
    "Activity 2 :"
   ]
  },
  {
   "cell_type": "code",
   "execution_count": 33,
   "metadata": {},
   "outputs": [],
   "source": [
    "class IceCreamStand(Restaurant):\n",
    "    \n",
    "    def __init__(self,*flavors):\n",
    "       \n",
    "        self.flavors=flavors\n",
    "        \n",
    "    def flavor_list(self):         \n",
    "      \n",
    "        print(f\" List of flavors available :\\n\")\n",
    "        \n",
    "        for flv in self.flavors:\n",
    "        \n",
    "            print(f\" --- {flv}\")\n",
    "            "
   ]
  },
  {
   "cell_type": "code",
   "execution_count": 36,
   "metadata": {},
   "outputs": [],
   "source": [
    "icecreams=IceCreamStand('Vanilla','Strawberry','Kaju-Pista','Kesar-Pista','Tender Coconut')"
   ]
  },
  {
   "cell_type": "code",
   "execution_count": 37,
   "metadata": {},
   "outputs": [
    {
     "name": "stdout",
     "output_type": "stream",
     "text": [
      " List of flavors available :\n",
      "\n",
      " --- Vanilla\n",
      " --- Strawberry\n",
      " --- Kaju-Pista\n",
      " --- Kesar-Pista\n",
      " --- Tender Coconut\n"
     ]
    }
   ],
   "source": [
    "icecreams.flavor_list()"
   ]
  },
  {
   "cell_type": "code",
   "execution_count": null,
   "metadata": {},
   "outputs": [],
   "source": []
  }
 ],
 "metadata": {
  "kernelspec": {
   "display_name": "Python 3",
   "language": "python",
   "name": "python3"
  },
  "language_info": {
   "codemirror_mode": {
    "name": "ipython",
    "version": 3
   },
   "file_extension": ".py",
   "mimetype": "text/x-python",
   "name": "python",
   "nbconvert_exporter": "python",
   "pygments_lexer": "ipython3",
   "version": "3.7.6"
  }
 },
 "nbformat": 4,
 "nbformat_minor": 4
}
